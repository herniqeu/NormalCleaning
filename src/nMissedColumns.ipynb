{
  "nbformat": 4,
  "nbformat_minor": 0,
  "metadata": {
    "colab": {
      "provenance": []
    },
    "kernelspec": {
      "name": "python3",
      "display_name": "Python 3"
    },
    "language_info": {
      "name": "python"
    }
  },
  "cells": [
    {
      "cell_type": "code",
      "source": [
        "from google.colab import drive\n",
        "import pandas as pd \n",
        "import numpy as np \n",
        "from sklearn.tree import DecisionTreeRegressor\n",
        "from sklearn.ensemble import RandomForestRegressor\n",
        "from sklearn.datasets import make_classification\n",
        "import plotly.express as px\n",
        "from sklearn.metrics import precision_score\n",
        "\n",
        "drive.mount('/content/drive')\n",
        "\n",
        "df_train = pd.read_csv('/content/drive/MyDrive/house-prices-advanced-regression-techniques/train.csv')\n",
        "df_test = pd.read_csv('/content/drive/MyDrive/house-prices-advanced-regression-techniques/test.csv')\n",
        "\n",
        "df_train = df_train.drop('Id', axis=1)\n",
        "\n",
        "np.random.seed(73)"
      ],
      "metadata": {
        "colab": {
          "base_uri": "https://localhost:8080/"
        },
        "id": "Oznp_4kaurMl",
        "outputId": "3c63e873-e9f5-49d9-f1fc-c38f57933990"
      },
      "execution_count": 4,
      "outputs": [
        {
          "output_type": "stream",
          "name": "stdout",
          "text": [
            "Drive already mounted at /content/drive; to attempt to forcibly remount, call drive.mount(\"/content/drive\", force_remount=True).\n"
          ]
        }
      ]
    },
    {
      "cell_type": "code",
      "execution_count": 47,
      "metadata": {
        "id": "ckqTvUeBuovt"
      },
      "outputs": [],
      "source": [
        "def Mean(numberOfNanX, numberOfColumns): \n",
        "\n",
        "  AllColumns = list(df_train.select_dtypes(include='number').columns)\n",
        "\n",
        "  columns = list(df_train.select_dtypes(include='number').columns)[:numberOfColumns-1]\n",
        "\n",
        "  if 'SalePrice' in columns:\n",
        "    columns.remove('SalePrice')\n",
        "\n",
        "  df_train_mean = df_train[AllColumns].copy()\n",
        "\n",
        "  if numberOfNanX >= len(df_train_mean):\n",
        "    numberOfNanX = len(df_train_mean) - 1\n",
        "\n",
        "  for i in AllColumns: \n",
        "    df_train_mean[i] = df_train_mean[i].astype('float32')\n",
        "\n",
        "  for i in columns:  \n",
        "    df_train_mean.loc[:numberOfNanX, i] = np.nan\n",
        "    ColumnMean = df_train_mean[i].mean(skipna=True)\n",
        "    df_train_mean[i] = df_train_mean[i].fillna(ColumnMean)\n",
        "  \n",
        "  df_train_mean = df_train_mean.fillna(df_train_mean.mean())\n",
        "\n",
        "  X_train = df_train_mean.drop(columns=['SalePrice'])\n",
        "  y_train = df_train_mean['SalePrice']\n",
        "\n",
        "  rfMean = RandomForestRegressor(max_depth=9)\n",
        "  rfMean.fit(X_train,y_train)\n",
        "\n",
        "  return rfMean.score(X_train,y_train)"
      ]
    },
    {
      "cell_type": "code",
      "source": [
        "def Mode(numberOfNanX, numberOfNaNColumns): \n",
        "\n",
        "  AllColumns = list(df_train.select_dtypes(include='number').columns)\n",
        "\n",
        "  columns = list(df_train.select_dtypes(include='number').columns)[:numberOfNaNColumns-1]\n",
        "\n",
        "  df_train_mode = df_train[AllColumns].copy()\n",
        "\n",
        "  if numberOfNanX >= len(df_train_mode):\n",
        "    numberOfNanX = len(df_train_mode) - 1\n",
        "\n",
        "  for i in AllColumns: \n",
        "    df_train_mode[i] = df_train_mode[i].astype('float32')\n",
        "\n",
        "  for i in columns:  \n",
        "    df_train_mode[i] = df_train_mode[i].astype('float32')\n",
        "    df_train_mode.loc[:numberOfNanX, i] = np.nan\n",
        "    ColumnMode = df_train_mode[i].mode()[0]\n",
        "    df_train_mode[i] = df_train_mode[i].fillna(ColumnMode)\n",
        "  \n",
        "  df_train_mode = df_train_mode.fillna(df_train_mode.mean())\n",
        "\n",
        "  X_train = df_train_mode.drop(columns=['SalePrice'])\n",
        "  y_train = df_train_mode['SalePrice']\n",
        "\n",
        "  rfmode = RandomForestRegressor(max_depth=9)\n",
        "  rfmode.fit(X_train,y_train)\n",
        "\n",
        "  return rfmode.score(X_train,y_train)"
      ],
      "metadata": {
        "id": "J6KERNvxuueC"
      },
      "execution_count": 6,
      "outputs": []
    },
    {
      "cell_type": "code",
      "source": [
        "def Median(numberOfNanX, numberOfNaNColumns): \n",
        "\n",
        "  AllColumns = list(df_train.select_dtypes(include='number').columns)\n",
        "\n",
        "  columns = list(df_train.select_dtypes(include='number').columns)[:numberOfNaNColumns-1]\n",
        "\n",
        "  df_train_median = df_train[AllColumns].copy()\n",
        "\n",
        "  if numberOfNanX >= len(df_train_median):\n",
        "    numberOfNanX = len(df_train_median) - 1\n",
        "\n",
        "  for i in AllColumns: \n",
        "    df_train_median[i] = df_train_median[i].astype('float32')\n",
        "\n",
        "  for i in columns:  \n",
        "    df_train_median[i] = df_train_median[i].astype('float32')\n",
        "    df_train_median.loc[:numberOfNanX, i] = np.nan\n",
        "    Columnmedian = df_train_median[i].median(skipna=True)\n",
        "    df_train_median[i] = df_train_median[i].fillna(Columnmedian)\n",
        "  \n",
        "  df_train_median = df_train_median.fillna(df_train_median.mean())\n",
        "\n",
        "  X_train = df_train_median.drop(columns=['SalePrice'])\n",
        "  y_train = df_train_median['SalePrice']\n",
        "\n",
        "  rfmedian = RandomForestRegressor(max_depth=9)\n",
        "  rfmedian.fit(X_train,y_train)\n",
        "\n",
        "  return rfmedian.score(X_train,y_train)"
      ],
      "metadata": {
        "id": "9v2LEEz3vcaO"
      },
      "execution_count": 7,
      "outputs": []
    },
    {
      "cell_type": "code",
      "source": [
        "def NormalDistribuition(numberOfNanX, numberOfNaNColumns): \n",
        "\n",
        "  AllColumns = list(df_train.select_dtypes(include='number').columns)\n",
        "\n",
        "  columns = list(df_train.select_dtypes(include='number').columns)[:numberOfNaNColumns-1]\n",
        "\n",
        "  df_train_normal = df_train[AllColumns].copy()\n",
        "\n",
        "  if numberOfNanX >= len(df_train_normal):\n",
        "    numberOfNanX = len(df_train_normal) - 1\n",
        "  \n",
        "  for i in AllColumns: \n",
        "    df_train_normal[i] = df_train_normal[i].astype('float32')\n",
        "\n",
        "  for i in columns:  \n",
        "    df_train_normal[i] = df_train_normal[i].astype('float32')\n",
        "    df_train_normal.loc[:numberOfNanX, i] = np.nan\n",
        "    ColumnMean = df_train_normal[i].mean(skipna=True)\n",
        "    ColumnStd = df_train_normal[i].std(skipna=True)\n",
        "    NullLength = df_train_normal[i].isnull().sum()\n",
        "    NormalDistributionList = np.random.normal(ColumnMean, ColumnStd, NullLength)\n",
        "    df_train_normal[i].fillna(pd.Series(NormalDistributionList, index=df_train_normal.index[df_train_normal[i].isnull()]), inplace=True)\n",
        "  \n",
        "  df_train_normal = df_train_normal.fillna(df_train_normal.mean())\n",
        "\n",
        "  X_train = df_train_normal.drop(columns=['SalePrice'])\n",
        "  y_train = df_train_normal['SalePrice']\n",
        "\n",
        "  rfNormalDistribuition = RandomForestRegressor(max_depth=9)\n",
        "  rfNormalDistribuition.fit(X_train,y_train)\n",
        "\n",
        "  return rfNormalDistribuition.score(X_train,y_train)"
      ],
      "metadata": {
        "id": "Ae2xc31ivd3j"
      },
      "execution_count": 8,
      "outputs": []
    },
    {
      "cell_type": "code",
      "source": [
        "from sklearn import tree\n",
        "from sklearn.ensemble import RandomForestClassifier\n",
        "def CleaningAlgorithm(numberOfNanX, numberOfColumns):\n",
        "\n",
        "  AllColumns = list(df_train.select_dtypes(include='number').columns)\n",
        "\n",
        "  columns = list(df_train.select_dtypes(include='number').columns)[:numberOfColumns-1]\n",
        "\n",
        "  if 'SalePrice' not in columns:\n",
        "    columns.append('SalePrice')\n",
        "\n",
        "  df_train_algorithm = df_train[columns].copy()\n",
        "\n",
        "  for i in columns:\n",
        "    df_train_algorithm.loc[:numberOfNanX, i] = np.nan \n",
        "    todas = list(df_train_algorithm.columns)\n",
        "    \n",
        "    df_treino = df_train_algorithm.copy()\n",
        "    df_treino.dropna(subset=todas, inplace=True)\n",
        "\n",
        "    X = df_treino.drop(i, axis=1)\n",
        "    y = df_treino[i]\n",
        "\n",
        "    clf = RandomForestClassifier()\n",
        "    clf = clf.fit(X, y)\n",
        "\n",
        "    linhas_com_nan = df_train_algorithm[df_train_algorithm[i].isna()]\n",
        "    linhas_com_nan = linhas_com_nan.drop(i, axis=1)\n",
        "\n",
        "    numero_nan = df_train_algorithm.isna().sum()[i]\n",
        "\n",
        "    linhas_com_nan = linhas_com_nan.fillna(linhas_com_nan.mean())\n",
        "\n",
        "    clfLista = clf.predict(linhas_com_nan)\n",
        "\n",
        "    for j in range(0, numero_nan): \n",
        "        df_train_algorithm.loc[df_train_algorithm[i].isna(), i] = clfLista[j] \n",
        "  \n",
        "  X_train = df_train_algorithm.drop(columns=['SalePrice'])\n",
        "  y_train = df_train_algorithm['SalePrice']\n",
        "  \n",
        "  rfCleaningAlgorithm = RandomForestClassifier()\n",
        "  rfCleaningAlgorithm.fit(X_train,y_train)\n",
        "\n",
        "  return rfCleaningAlgorithm.score(X_train,y_train)"
      ],
      "metadata": {
        "id": "7T4TtVmRvrW_"
      },
      "execution_count": 9,
      "outputs": []
    },
    {
      "cell_type": "code",
      "source": [
        "TestList = []\n",
        "for i in range(0, 1201, 50):\n",
        "  TestList.append(i) "
      ],
      "metadata": {
        "id": "Cokz6uBvvhEw"
      },
      "execution_count": 10,
      "outputs": []
    },
    {
      "cell_type": "code",
      "source": [
        "def GenerateInfo(numberOfNaNColumns):\n",
        "  TestList = []\n",
        "  for i in range(0, 1201, 50):\n",
        "    TestList.append(i) \n",
        "\n",
        "  ResultsList = [[],[],[],[],[]]\n",
        "  for i in TestList:\n",
        "    ResultsList[0].append(Mean(i,numberOfNaNColumns))\n",
        "    ResultsList[1].append(Mode(i,numberOfNaNColumns))\n",
        "    ResultsList[2].append(Mode(i,numberOfNaNColumns))\n",
        "    ResultsList[3].append(NormalDistribuition(i,numberOfNaNColumns))\n",
        "    ResultsList[4].append(NormalDistribuition(i,numberOfNaNColumns))\n",
        "\n",
        "  data = {'Mean': ResultsList[0],\n",
        "        'mode': ResultsList[1],\n",
        "        'Mode': ResultsList[2],\n",
        "        'Normal Distribution': ResultsList[3],\n",
        "        'Algorithm': ResultsList[4]\n",
        "        }\n",
        "        \n",
        "  df_Results = pd.DataFrame(data)\n",
        "  df_Results.index = TestList\n",
        "\n",
        "  fig = px.line(df_Results.reset_index(), x='index', y=df_Results.columns)\n",
        "  fig.show()"
      ],
      "metadata": {
        "id": "_zaW1woLvivh"
      },
      "execution_count": 16,
      "outputs": []
    },
    {
      "cell_type": "code",
      "source": [
        "GenerateInfo(5)"
      ],
      "metadata": {
        "colab": {
          "base_uri": "https://localhost:8080/",
          "height": 542
        },
        "id": "f8V7ugZN5JEr",
        "outputId": "ced81ffb-397b-4e3b-b0ff-237ddd6d381d"
      },
      "execution_count": 51,
      "outputs": [
        {
          "output_type": "display_data",
          "data": {
            "text/html": [
              "<html>\n",
              "<head><meta charset=\"utf-8\" /></head>\n",
              "<body>\n",
              "    <div>            <script src=\"https://cdnjs.cloudflare.com/ajax/libs/mathjax/2.7.5/MathJax.js?config=TeX-AMS-MML_SVG\"></script><script type=\"text/javascript\">if (window.MathJax) {MathJax.Hub.Config({SVG: {font: \"STIX-Web\"}});}</script>                <script type=\"text/javascript\">window.PlotlyConfig = {MathJaxConfig: 'local'};</script>\n",
              "        <script src=\"https://cdn.plot.ly/plotly-2.8.3.min.js\"></script>                <div id=\"bee49d34-39db-4487-afb4-528755b6bfef\" class=\"plotly-graph-div\" style=\"height:525px; width:100%;\"></div>            <script type=\"text/javascript\">                                    window.PLOTLYENV=window.PLOTLYENV || {};                                    if (document.getElementById(\"bee49d34-39db-4487-afb4-528755b6bfef\")) {                    Plotly.newPlot(                        \"bee49d34-39db-4487-afb4-528755b6bfef\",                        [{\"hovertemplate\":\"variable=Mean<br>index=%{x}<br>value=%{y}<extra></extra>\",\"legendgroup\":\"Mean\",\"line\":{\"color\":\"#636efa\",\"dash\":\"solid\"},\"marker\":{\"symbol\":\"circle\"},\"mode\":\"lines\",\"name\":\"Mean\",\"orientation\":\"v\",\"showlegend\":true,\"x\":[0,50,100,150,200,250,300,350,400,450,500,550,600,650,700,750,800,850,900,950,1000,1050,1100,1150,1200],\"xaxis\":\"x\",\"y\":[0.9695726956865602,0.969219871214257,0.9693215157349443,0.9678160871020568,0.9662693522521826,0.9680081080428995,0.96518275934836,0.9644360207554222,0.9655312524839874,0.96351003885224,0.9652056486193574,0.9661421813133144,0.9659958860288633,0.9655074502844748,0.9634152321798365,0.9624093797755255,0.9623956976388411,0.9642622000473041,0.9635152402342617,0.9620428618017975,0.9619416122847456,0.9633323926237664,0.9620944974027392,0.963087290942652,0.9633912091549561],\"yaxis\":\"y\",\"type\":\"scatter\"},{\"hovertemplate\":\"variable=mode<br>index=%{x}<br>value=%{y}<extra></extra>\",\"legendgroup\":\"mode\",\"line\":{\"color\":\"#EF553B\",\"dash\":\"solid\"},\"marker\":{\"symbol\":\"circle\"},\"mode\":\"lines\",\"name\":\"mode\",\"orientation\":\"v\",\"showlegend\":true,\"x\":[0,50,100,150,200,250,300,350,400,450,500,550,600,650,700,750,800,850,900,950,1000,1050,1100,1150,1200],\"xaxis\":\"x\",\"y\":[0.9682409647428185,0.9692140734452983,0.9697464460775154,0.9672163049389264,0.9660598509033127,0.9661525230959341,0.9662094251062241,0.9632039152132786,0.964400830760328,0.9641192016075576,0.9626441772102524,0.9646821350012303,0.9642845337676816,0.9652602997253453,0.9641843155033062,0.963776034850679,0.962864206140062,0.9614289043047454,0.9633467548608895,0.9631840774294408,0.9628577411626289,0.962341389797594,0.9625671709398463,0.9634691165121964,0.9641857704785641],\"yaxis\":\"y\",\"type\":\"scatter\"},{\"hovertemplate\":\"variable=Mode<br>index=%{x}<br>value=%{y}<extra></extra>\",\"legendgroup\":\"Mode\",\"line\":{\"color\":\"#00cc96\",\"dash\":\"solid\"},\"marker\":{\"symbol\":\"circle\"},\"mode\":\"lines\",\"name\":\"Mode\",\"orientation\":\"v\",\"showlegend\":true,\"x\":[0,50,100,150,200,250,300,350,400,450,500,550,600,650,700,750,800,850,900,950,1000,1050,1100,1150,1200],\"xaxis\":\"x\",\"y\":[0.9716962536142991,0.9695226036588269,0.9681156627720706,0.9696184185049102,0.965243435125076,0.965939629490611,0.9660753262006739,0.9648143494254907,0.9633589354844487,0.9657436174138969,0.961259502603929,0.964891374983242,0.96552914317253,0.9652757061232176,0.9617452146718736,0.9634937113228123,0.9610733470450025,0.9623772922884317,0.9625427496634895,0.9629722159950729,0.96409844750235,0.9644970753533927,0.9635774697094414,0.9637035826899664,0.9617934638362328],\"yaxis\":\"y\",\"type\":\"scatter\"},{\"hovertemplate\":\"variable=Normal Distribution<br>index=%{x}<br>value=%{y}<extra></extra>\",\"legendgroup\":\"Normal Distribution\",\"line\":{\"color\":\"#ab63fa\",\"dash\":\"solid\"},\"marker\":{\"symbol\":\"circle\"},\"mode\":\"lines\",\"name\":\"Normal Distribution\",\"orientation\":\"v\",\"showlegend\":true,\"x\":[0,50,100,150,200,250,300,350,400,450,500,550,600,650,700,750,800,850,900,950,1000,1050,1100,1150,1200],\"xaxis\":\"x\",\"y\":[0.9715034870201615,0.9693257130216099,0.9678018799590767,0.9689372022813615,0.9663132157410382,0.966556929239327,0.9648727688992002,0.9645671941059105,0.9650912371070566,0.9649360710107058,0.9629502659788125,0.966026067766924,0.9660431031819161,0.9650343072328519,0.9644304750778943,0.9625783896334749,0.9633783290016451,0.9621549165011678,0.9628163274361772,0.9653409723514923,0.9607084814666413,0.962581928474335,0.9626644438894965,0.961943525788465,0.9625034206033027],\"yaxis\":\"y\",\"type\":\"scatter\"},{\"hovertemplate\":\"variable=Algorithm<br>index=%{x}<br>value=%{y}<extra></extra>\",\"legendgroup\":\"Algorithm\",\"line\":{\"color\":\"#FFA15A\",\"dash\":\"solid\"},\"marker\":{\"symbol\":\"circle\"},\"mode\":\"lines\",\"name\":\"Algorithm\",\"orientation\":\"v\",\"showlegend\":true,\"x\":[0,50,100,150,200,250,300,350,400,450,500,550,600,650,700,750,800,850,900,950,1000,1050,1100,1150,1200],\"xaxis\":\"x\",\"y\":[0.9719912594483231,0.9705910114316759,0.9682374776538057,0.9677234619110346,0.9653959629561643,0.9651578047573701,0.9654967887311845,0.9645098267081611,0.9634126766710082,0.9621936299398899,0.9650765201182726,0.9656551287174807,0.9646414810192843,0.9652057307244305,0.9656271427630156,0.9649227618339205,0.9625185637693212,0.9633110219558852,0.9623835368774482,0.9636425823353991,0.9620189878458977,0.9640815508974055,0.9634501644149143,0.964282449184967,0.9638315263430047],\"yaxis\":\"y\",\"type\":\"scatter\"}],                        {\"template\":{\"data\":{\"bar\":[{\"error_x\":{\"color\":\"#2a3f5f\"},\"error_y\":{\"color\":\"#2a3f5f\"},\"marker\":{\"line\":{\"color\":\"#E5ECF6\",\"width\":0.5},\"pattern\":{\"fillmode\":\"overlay\",\"size\":10,\"solidity\":0.2}},\"type\":\"bar\"}],\"barpolar\":[{\"marker\":{\"line\":{\"color\":\"#E5ECF6\",\"width\":0.5},\"pattern\":{\"fillmode\":\"overlay\",\"size\":10,\"solidity\":0.2}},\"type\":\"barpolar\"}],\"carpet\":[{\"aaxis\":{\"endlinecolor\":\"#2a3f5f\",\"gridcolor\":\"white\",\"linecolor\":\"white\",\"minorgridcolor\":\"white\",\"startlinecolor\":\"#2a3f5f\"},\"baxis\":{\"endlinecolor\":\"#2a3f5f\",\"gridcolor\":\"white\",\"linecolor\":\"white\",\"minorgridcolor\":\"white\",\"startlinecolor\":\"#2a3f5f\"},\"type\":\"carpet\"}],\"choropleth\":[{\"colorbar\":{\"outlinewidth\":0,\"ticks\":\"\"},\"type\":\"choropleth\"}],\"contour\":[{\"colorbar\":{\"outlinewidth\":0,\"ticks\":\"\"},\"colorscale\":[[0.0,\"#0d0887\"],[0.1111111111111111,\"#46039f\"],[0.2222222222222222,\"#7201a8\"],[0.3333333333333333,\"#9c179e\"],[0.4444444444444444,\"#bd3786\"],[0.5555555555555556,\"#d8576b\"],[0.6666666666666666,\"#ed7953\"],[0.7777777777777778,\"#fb9f3a\"],[0.8888888888888888,\"#fdca26\"],[1.0,\"#f0f921\"]],\"type\":\"contour\"}],\"contourcarpet\":[{\"colorbar\":{\"outlinewidth\":0,\"ticks\":\"\"},\"type\":\"contourcarpet\"}],\"heatmap\":[{\"colorbar\":{\"outlinewidth\":0,\"ticks\":\"\"},\"colorscale\":[[0.0,\"#0d0887\"],[0.1111111111111111,\"#46039f\"],[0.2222222222222222,\"#7201a8\"],[0.3333333333333333,\"#9c179e\"],[0.4444444444444444,\"#bd3786\"],[0.5555555555555556,\"#d8576b\"],[0.6666666666666666,\"#ed7953\"],[0.7777777777777778,\"#fb9f3a\"],[0.8888888888888888,\"#fdca26\"],[1.0,\"#f0f921\"]],\"type\":\"heatmap\"}],\"heatmapgl\":[{\"colorbar\":{\"outlinewidth\":0,\"ticks\":\"\"},\"colorscale\":[[0.0,\"#0d0887\"],[0.1111111111111111,\"#46039f\"],[0.2222222222222222,\"#7201a8\"],[0.3333333333333333,\"#9c179e\"],[0.4444444444444444,\"#bd3786\"],[0.5555555555555556,\"#d8576b\"],[0.6666666666666666,\"#ed7953\"],[0.7777777777777778,\"#fb9f3a\"],[0.8888888888888888,\"#fdca26\"],[1.0,\"#f0f921\"]],\"type\":\"heatmapgl\"}],\"histogram\":[{\"marker\":{\"pattern\":{\"fillmode\":\"overlay\",\"size\":10,\"solidity\":0.2}},\"type\":\"histogram\"}],\"histogram2d\":[{\"colorbar\":{\"outlinewidth\":0,\"ticks\":\"\"},\"colorscale\":[[0.0,\"#0d0887\"],[0.1111111111111111,\"#46039f\"],[0.2222222222222222,\"#7201a8\"],[0.3333333333333333,\"#9c179e\"],[0.4444444444444444,\"#bd3786\"],[0.5555555555555556,\"#d8576b\"],[0.6666666666666666,\"#ed7953\"],[0.7777777777777778,\"#fb9f3a\"],[0.8888888888888888,\"#fdca26\"],[1.0,\"#f0f921\"]],\"type\":\"histogram2d\"}],\"histogram2dcontour\":[{\"colorbar\":{\"outlinewidth\":0,\"ticks\":\"\"},\"colorscale\":[[0.0,\"#0d0887\"],[0.1111111111111111,\"#46039f\"],[0.2222222222222222,\"#7201a8\"],[0.3333333333333333,\"#9c179e\"],[0.4444444444444444,\"#bd3786\"],[0.5555555555555556,\"#d8576b\"],[0.6666666666666666,\"#ed7953\"],[0.7777777777777778,\"#fb9f3a\"],[0.8888888888888888,\"#fdca26\"],[1.0,\"#f0f921\"]],\"type\":\"histogram2dcontour\"}],\"mesh3d\":[{\"colorbar\":{\"outlinewidth\":0,\"ticks\":\"\"},\"type\":\"mesh3d\"}],\"parcoords\":[{\"line\":{\"colorbar\":{\"outlinewidth\":0,\"ticks\":\"\"}},\"type\":\"parcoords\"}],\"pie\":[{\"automargin\":true,\"type\":\"pie\"}],\"scatter\":[{\"marker\":{\"colorbar\":{\"outlinewidth\":0,\"ticks\":\"\"}},\"type\":\"scatter\"}],\"scatter3d\":[{\"line\":{\"colorbar\":{\"outlinewidth\":0,\"ticks\":\"\"}},\"marker\":{\"colorbar\":{\"outlinewidth\":0,\"ticks\":\"\"}},\"type\":\"scatter3d\"}],\"scattercarpet\":[{\"marker\":{\"colorbar\":{\"outlinewidth\":0,\"ticks\":\"\"}},\"type\":\"scattercarpet\"}],\"scattergeo\":[{\"marker\":{\"colorbar\":{\"outlinewidth\":0,\"ticks\":\"\"}},\"type\":\"scattergeo\"}],\"scattergl\":[{\"marker\":{\"colorbar\":{\"outlinewidth\":0,\"ticks\":\"\"}},\"type\":\"scattergl\"}],\"scattermapbox\":[{\"marker\":{\"colorbar\":{\"outlinewidth\":0,\"ticks\":\"\"}},\"type\":\"scattermapbox\"}],\"scatterpolar\":[{\"marker\":{\"colorbar\":{\"outlinewidth\":0,\"ticks\":\"\"}},\"type\":\"scatterpolar\"}],\"scatterpolargl\":[{\"marker\":{\"colorbar\":{\"outlinewidth\":0,\"ticks\":\"\"}},\"type\":\"scatterpolargl\"}],\"scatterternary\":[{\"marker\":{\"colorbar\":{\"outlinewidth\":0,\"ticks\":\"\"}},\"type\":\"scatterternary\"}],\"surface\":[{\"colorbar\":{\"outlinewidth\":0,\"ticks\":\"\"},\"colorscale\":[[0.0,\"#0d0887\"],[0.1111111111111111,\"#46039f\"],[0.2222222222222222,\"#7201a8\"],[0.3333333333333333,\"#9c179e\"],[0.4444444444444444,\"#bd3786\"],[0.5555555555555556,\"#d8576b\"],[0.6666666666666666,\"#ed7953\"],[0.7777777777777778,\"#fb9f3a\"],[0.8888888888888888,\"#fdca26\"],[1.0,\"#f0f921\"]],\"type\":\"surface\"}],\"table\":[{\"cells\":{\"fill\":{\"color\":\"#EBF0F8\"},\"line\":{\"color\":\"white\"}},\"header\":{\"fill\":{\"color\":\"#C8D4E3\"},\"line\":{\"color\":\"white\"}},\"type\":\"table\"}]},\"layout\":{\"annotationdefaults\":{\"arrowcolor\":\"#2a3f5f\",\"arrowhead\":0,\"arrowwidth\":1},\"autotypenumbers\":\"strict\",\"coloraxis\":{\"colorbar\":{\"outlinewidth\":0,\"ticks\":\"\"}},\"colorscale\":{\"diverging\":[[0,\"#8e0152\"],[0.1,\"#c51b7d\"],[0.2,\"#de77ae\"],[0.3,\"#f1b6da\"],[0.4,\"#fde0ef\"],[0.5,\"#f7f7f7\"],[0.6,\"#e6f5d0\"],[0.7,\"#b8e186\"],[0.8,\"#7fbc41\"],[0.9,\"#4d9221\"],[1,\"#276419\"]],\"sequential\":[[0.0,\"#0d0887\"],[0.1111111111111111,\"#46039f\"],[0.2222222222222222,\"#7201a8\"],[0.3333333333333333,\"#9c179e\"],[0.4444444444444444,\"#bd3786\"],[0.5555555555555556,\"#d8576b\"],[0.6666666666666666,\"#ed7953\"],[0.7777777777777778,\"#fb9f3a\"],[0.8888888888888888,\"#fdca26\"],[1.0,\"#f0f921\"]],\"sequentialminus\":[[0.0,\"#0d0887\"],[0.1111111111111111,\"#46039f\"],[0.2222222222222222,\"#7201a8\"],[0.3333333333333333,\"#9c179e\"],[0.4444444444444444,\"#bd3786\"],[0.5555555555555556,\"#d8576b\"],[0.6666666666666666,\"#ed7953\"],[0.7777777777777778,\"#fb9f3a\"],[0.8888888888888888,\"#fdca26\"],[1.0,\"#f0f921\"]]},\"colorway\":[\"#636efa\",\"#EF553B\",\"#00cc96\",\"#ab63fa\",\"#FFA15A\",\"#19d3f3\",\"#FF6692\",\"#B6E880\",\"#FF97FF\",\"#FECB52\"],\"font\":{\"color\":\"#2a3f5f\"},\"geo\":{\"bgcolor\":\"white\",\"lakecolor\":\"white\",\"landcolor\":\"#E5ECF6\",\"showlakes\":true,\"showland\":true,\"subunitcolor\":\"white\"},\"hoverlabel\":{\"align\":\"left\"},\"hovermode\":\"closest\",\"mapbox\":{\"style\":\"light\"},\"paper_bgcolor\":\"white\",\"plot_bgcolor\":\"#E5ECF6\",\"polar\":{\"angularaxis\":{\"gridcolor\":\"white\",\"linecolor\":\"white\",\"ticks\":\"\"},\"bgcolor\":\"#E5ECF6\",\"radialaxis\":{\"gridcolor\":\"white\",\"linecolor\":\"white\",\"ticks\":\"\"}},\"scene\":{\"xaxis\":{\"backgroundcolor\":\"#E5ECF6\",\"gridcolor\":\"white\",\"gridwidth\":2,\"linecolor\":\"white\",\"showbackground\":true,\"ticks\":\"\",\"zerolinecolor\":\"white\"},\"yaxis\":{\"backgroundcolor\":\"#E5ECF6\",\"gridcolor\":\"white\",\"gridwidth\":2,\"linecolor\":\"white\",\"showbackground\":true,\"ticks\":\"\",\"zerolinecolor\":\"white\"},\"zaxis\":{\"backgroundcolor\":\"#E5ECF6\",\"gridcolor\":\"white\",\"gridwidth\":2,\"linecolor\":\"white\",\"showbackground\":true,\"ticks\":\"\",\"zerolinecolor\":\"white\"}},\"shapedefaults\":{\"line\":{\"color\":\"#2a3f5f\"}},\"ternary\":{\"aaxis\":{\"gridcolor\":\"white\",\"linecolor\":\"white\",\"ticks\":\"\"},\"baxis\":{\"gridcolor\":\"white\",\"linecolor\":\"white\",\"ticks\":\"\"},\"bgcolor\":\"#E5ECF6\",\"caxis\":{\"gridcolor\":\"white\",\"linecolor\":\"white\",\"ticks\":\"\"}},\"title\":{\"x\":0.05},\"xaxis\":{\"automargin\":true,\"gridcolor\":\"white\",\"linecolor\":\"white\",\"ticks\":\"\",\"title\":{\"standoff\":15},\"zerolinecolor\":\"white\",\"zerolinewidth\":2},\"yaxis\":{\"automargin\":true,\"gridcolor\":\"white\",\"linecolor\":\"white\",\"ticks\":\"\",\"title\":{\"standoff\":15},\"zerolinecolor\":\"white\",\"zerolinewidth\":2}}},\"xaxis\":{\"anchor\":\"y\",\"domain\":[0.0,1.0],\"title\":{\"text\":\"index\"}},\"yaxis\":{\"anchor\":\"x\",\"domain\":[0.0,1.0],\"title\":{\"text\":\"value\"}},\"legend\":{\"title\":{\"text\":\"variable\"},\"tracegroupgap\":0},\"margin\":{\"t\":60}},                        {\"responsive\": true}                    ).then(function(){\n",
              "                            \n",
              "var gd = document.getElementById('bee49d34-39db-4487-afb4-528755b6bfef');\n",
              "var x = new MutationObserver(function (mutations, observer) {{\n",
              "        var display = window.getComputedStyle(gd).display;\n",
              "        if (!display || display === 'none') {{\n",
              "            console.log([gd, 'removed!']);\n",
              "            Plotly.purge(gd);\n",
              "            observer.disconnect();\n",
              "        }}\n",
              "}});\n",
              "\n",
              "// Listen for the removal of the full notebook cells\n",
              "var notebookContainer = gd.closest('#notebook-container');\n",
              "if (notebookContainer) {{\n",
              "    x.observe(notebookContainer, {childList: true});\n",
              "}}\n",
              "\n",
              "// Listen for the clearing of the current output cell\n",
              "var outputEl = gd.closest('.output');\n",
              "if (outputEl) {{\n",
              "    x.observe(outputEl, {childList: true});\n",
              "}}\n",
              "\n",
              "                        })                };                            </script>        </div>\n",
              "</body>\n",
              "</html>"
            ]
          },
          "metadata": {}
        }
      ]
    },
    {
      "cell_type": "code",
      "source": [
        "GenerateInfo(30)"
      ],
      "metadata": {
        "colab": {
          "base_uri": "https://localhost:8080/",
          "height": 542
        },
        "id": "ugIwBo1_vkDa",
        "outputId": "b59c199f-24dc-4522-a3ee-e45ced412e58"
      },
      "execution_count": 50,
      "outputs": [
        {
          "output_type": "display_data",
          "data": {
            "text/html": [
              "<html>\n",
              "<head><meta charset=\"utf-8\" /></head>\n",
              "<body>\n",
              "    <div>            <script src=\"https://cdnjs.cloudflare.com/ajax/libs/mathjax/2.7.5/MathJax.js?config=TeX-AMS-MML_SVG\"></script><script type=\"text/javascript\">if (window.MathJax) {MathJax.Hub.Config({SVG: {font: \"STIX-Web\"}});}</script>                <script type=\"text/javascript\">window.PlotlyConfig = {MathJaxConfig: 'local'};</script>\n",
              "        <script src=\"https://cdn.plot.ly/plotly-2.8.3.min.js\"></script>                <div id=\"c7d3c85b-2f96-4c57-b1b2-ec8935da0fdd\" class=\"plotly-graph-div\" style=\"height:525px; width:100%;\"></div>            <script type=\"text/javascript\">                                    window.PLOTLYENV=window.PLOTLYENV || {};                                    if (document.getElementById(\"c7d3c85b-2f96-4c57-b1b2-ec8935da0fdd\")) {                    Plotly.newPlot(                        \"c7d3c85b-2f96-4c57-b1b2-ec8935da0fdd\",                        [{\"hovertemplate\":\"variable=Mean<br>index=%{x}<br>value=%{y}<extra></extra>\",\"legendgroup\":\"Mean\",\"line\":{\"color\":\"#636efa\",\"dash\":\"solid\"},\"marker\":{\"symbol\":\"circle\"},\"mode\":\"lines\",\"name\":\"Mean\",\"orientation\":\"v\",\"showlegend\":true,\"x\":[0,50,100,150,200,250,300,350,400,450,500,550,600,650,700,750,800,850,900,950,1000,1050,1100,1150,1200],\"xaxis\":\"x\",\"y\":[0.9687642160450913,0.9522585780098444,0.9360449644326176,0.9178151226820501,0.8780868843904794,0.8513636964928184,0.8356431565813263,0.7922055947993726,0.7697704199903166,0.748457855801808,0.7143272382293457,0.690121814421335,0.6556136566011004,0.627052059566481,0.5653540758095624,0.5367674615128494,0.5108789588365312,0.4934786430754182,0.4521468414767005,0.4406269990523398,0.41302636259221404,0.37658142687863827,0.3664112878453749,0.3362503235636114,0.3081570841282971],\"yaxis\":\"y\",\"type\":\"scatter\"},{\"hovertemplate\":\"variable=mode<br>index=%{x}<br>value=%{y}<extra></extra>\",\"legendgroup\":\"mode\",\"line\":{\"color\":\"#EF553B\",\"dash\":\"solid\"},\"marker\":{\"symbol\":\"circle\"},\"mode\":\"lines\",\"name\":\"mode\",\"orientation\":\"v\",\"showlegend\":true,\"x\":[0,50,100,150,200,250,300,350,400,450,500,550,600,650,700,750,800,850,900,950,1000,1050,1100,1150,1200],\"xaxis\":\"x\",\"y\":[0.969587592753444,0.9524915440741686,0.930010211142427,0.9155966328137093,0.8761938301965668,0.8507264646826979,0.8359108650086619,0.7910076472824508,0.7681966185700045,0.7448555864099107,0.7123160485384368,0.684853575452925,0.656027303258977,0.6307794297879159,0.5630491568490232,0.5365269183888354,0.5154256358838442,0.49482833295225637,0.45469738205246657,0.4400191423956099,0.41232672879492893,0.38291944933347133,0.3666328140261841,0.34244973940921686,0.30189250959207914],\"yaxis\":\"y\",\"type\":\"scatter\"},{\"hovertemplate\":\"variable=Mode<br>index=%{x}<br>value=%{y}<extra></extra>\",\"legendgroup\":\"Mode\",\"line\":{\"color\":\"#00cc96\",\"dash\":\"solid\"},\"marker\":{\"symbol\":\"circle\"},\"mode\":\"lines\",\"name\":\"Mode\",\"orientation\":\"v\",\"showlegend\":true,\"x\":[0,50,100,150,200,250,300,350,400,450,500,550,600,650,700,750,800,850,900,950,1000,1050,1100,1150,1200],\"xaxis\":\"x\",\"y\":[0.9701156000076834,0.9541192893857237,0.9324959058250732,0.9161938943732608,0.8760758681121813,0.8500943191417429,0.8361169175787581,0.7893076139304582,0.7647182292677003,0.7405386890047914,0.7103179448996358,0.6871174497387054,0.6545206405227101,0.6288018749522573,0.5609583802298416,0.5396070477322078,0.5131660112364175,0.49372915857228183,0.4582222839974045,0.4426050405380356,0.41561994677431313,0.38204748510819175,0.36841279671337734,0.34415293437635686,0.3059781881493999],\"yaxis\":\"y\",\"type\":\"scatter\"},{\"hovertemplate\":\"variable=Normal Distribution<br>index=%{x}<br>value=%{y}<extra></extra>\",\"legendgroup\":\"Normal Distribution\",\"line\":{\"color\":\"#ab63fa\",\"dash\":\"solid\"},\"marker\":{\"symbol\":\"circle\"},\"mode\":\"lines\",\"name\":\"Normal Distribution\",\"orientation\":\"v\",\"showlegend\":true,\"x\":[0,50,100,150,200,250,300,350,400,450,500,550,600,650,700,750,800,850,900,950,1000,1050,1100,1150,1200],\"xaxis\":\"x\",\"y\":[0.971243797254963,0.9636296724494584,0.9570934410414713,0.9520302279872082,0.9352469118722465,0.9118347054018222,0.9170707950026737,0.903911129483068,0.8912324645254528,0.8809904215678763,0.8632552280979369,0.8338715781206658,0.8009278123835781,0.7863844656630303,0.7686254509044497,0.7428135104192927,0.7268721759952745,0.6920798088418167,0.6676305077228883,0.6398657038592568,0.6614802614586854,0.5864422353735679,0.6076910553116939,0.5705032881067595,0.5631199211824063],\"yaxis\":\"y\",\"type\":\"scatter\"},{\"hovertemplate\":\"variable=Algorithm<br>index=%{x}<br>value=%{y}<extra></extra>\",\"legendgroup\":\"Algorithm\",\"line\":{\"color\":\"#FFA15A\",\"dash\":\"solid\"},\"marker\":{\"symbol\":\"circle\"},\"mode\":\"lines\",\"name\":\"Algorithm\",\"orientation\":\"v\",\"showlegend\":true,\"x\":[0,50,100,150,200,250,300,350,400,450,500,550,600,650,700,750,800,850,900,950,1000,1050,1100,1150,1200],\"xaxis\":\"x\",\"y\":[0.9705673092192466,0.9646339628208458,0.952964412976927,0.9479507545321137,0.9340524102921886,0.922355104240046,0.909722313023294,0.9100420100434586,0.8852203613552614,0.876394710695283,0.8550822516424219,0.8363864846914054,0.8341513450590049,0.8088224887331967,0.7613629993346899,0.7356045444735906,0.7214029214682373,0.7195030745165318,0.6872558507071929,0.7070098151804012,0.691978564284872,0.6147688003876635,0.6072942541814553,0.5977318388693218,0.5565659909780232],\"yaxis\":\"y\",\"type\":\"scatter\"}],                        {\"template\":{\"data\":{\"bar\":[{\"error_x\":{\"color\":\"#2a3f5f\"},\"error_y\":{\"color\":\"#2a3f5f\"},\"marker\":{\"line\":{\"color\":\"#E5ECF6\",\"width\":0.5},\"pattern\":{\"fillmode\":\"overlay\",\"size\":10,\"solidity\":0.2}},\"type\":\"bar\"}],\"barpolar\":[{\"marker\":{\"line\":{\"color\":\"#E5ECF6\",\"width\":0.5},\"pattern\":{\"fillmode\":\"overlay\",\"size\":10,\"solidity\":0.2}},\"type\":\"barpolar\"}],\"carpet\":[{\"aaxis\":{\"endlinecolor\":\"#2a3f5f\",\"gridcolor\":\"white\",\"linecolor\":\"white\",\"minorgridcolor\":\"white\",\"startlinecolor\":\"#2a3f5f\"},\"baxis\":{\"endlinecolor\":\"#2a3f5f\",\"gridcolor\":\"white\",\"linecolor\":\"white\",\"minorgridcolor\":\"white\",\"startlinecolor\":\"#2a3f5f\"},\"type\":\"carpet\"}],\"choropleth\":[{\"colorbar\":{\"outlinewidth\":0,\"ticks\":\"\"},\"type\":\"choropleth\"}],\"contour\":[{\"colorbar\":{\"outlinewidth\":0,\"ticks\":\"\"},\"colorscale\":[[0.0,\"#0d0887\"],[0.1111111111111111,\"#46039f\"],[0.2222222222222222,\"#7201a8\"],[0.3333333333333333,\"#9c179e\"],[0.4444444444444444,\"#bd3786\"],[0.5555555555555556,\"#d8576b\"],[0.6666666666666666,\"#ed7953\"],[0.7777777777777778,\"#fb9f3a\"],[0.8888888888888888,\"#fdca26\"],[1.0,\"#f0f921\"]],\"type\":\"contour\"}],\"contourcarpet\":[{\"colorbar\":{\"outlinewidth\":0,\"ticks\":\"\"},\"type\":\"contourcarpet\"}],\"heatmap\":[{\"colorbar\":{\"outlinewidth\":0,\"ticks\":\"\"},\"colorscale\":[[0.0,\"#0d0887\"],[0.1111111111111111,\"#46039f\"],[0.2222222222222222,\"#7201a8\"],[0.3333333333333333,\"#9c179e\"],[0.4444444444444444,\"#bd3786\"],[0.5555555555555556,\"#d8576b\"],[0.6666666666666666,\"#ed7953\"],[0.7777777777777778,\"#fb9f3a\"],[0.8888888888888888,\"#fdca26\"],[1.0,\"#f0f921\"]],\"type\":\"heatmap\"}],\"heatmapgl\":[{\"colorbar\":{\"outlinewidth\":0,\"ticks\":\"\"},\"colorscale\":[[0.0,\"#0d0887\"],[0.1111111111111111,\"#46039f\"],[0.2222222222222222,\"#7201a8\"],[0.3333333333333333,\"#9c179e\"],[0.4444444444444444,\"#bd3786\"],[0.5555555555555556,\"#d8576b\"],[0.6666666666666666,\"#ed7953\"],[0.7777777777777778,\"#fb9f3a\"],[0.8888888888888888,\"#fdca26\"],[1.0,\"#f0f921\"]],\"type\":\"heatmapgl\"}],\"histogram\":[{\"marker\":{\"pattern\":{\"fillmode\":\"overlay\",\"size\":10,\"solidity\":0.2}},\"type\":\"histogram\"}],\"histogram2d\":[{\"colorbar\":{\"outlinewidth\":0,\"ticks\":\"\"},\"colorscale\":[[0.0,\"#0d0887\"],[0.1111111111111111,\"#46039f\"],[0.2222222222222222,\"#7201a8\"],[0.3333333333333333,\"#9c179e\"],[0.4444444444444444,\"#bd3786\"],[0.5555555555555556,\"#d8576b\"],[0.6666666666666666,\"#ed7953\"],[0.7777777777777778,\"#fb9f3a\"],[0.8888888888888888,\"#fdca26\"],[1.0,\"#f0f921\"]],\"type\":\"histogram2d\"}],\"histogram2dcontour\":[{\"colorbar\":{\"outlinewidth\":0,\"ticks\":\"\"},\"colorscale\":[[0.0,\"#0d0887\"],[0.1111111111111111,\"#46039f\"],[0.2222222222222222,\"#7201a8\"],[0.3333333333333333,\"#9c179e\"],[0.4444444444444444,\"#bd3786\"],[0.5555555555555556,\"#d8576b\"],[0.6666666666666666,\"#ed7953\"],[0.7777777777777778,\"#fb9f3a\"],[0.8888888888888888,\"#fdca26\"],[1.0,\"#f0f921\"]],\"type\":\"histogram2dcontour\"}],\"mesh3d\":[{\"colorbar\":{\"outlinewidth\":0,\"ticks\":\"\"},\"type\":\"mesh3d\"}],\"parcoords\":[{\"line\":{\"colorbar\":{\"outlinewidth\":0,\"ticks\":\"\"}},\"type\":\"parcoords\"}],\"pie\":[{\"automargin\":true,\"type\":\"pie\"}],\"scatter\":[{\"marker\":{\"colorbar\":{\"outlinewidth\":0,\"ticks\":\"\"}},\"type\":\"scatter\"}],\"scatter3d\":[{\"line\":{\"colorbar\":{\"outlinewidth\":0,\"ticks\":\"\"}},\"marker\":{\"colorbar\":{\"outlinewidth\":0,\"ticks\":\"\"}},\"type\":\"scatter3d\"}],\"scattercarpet\":[{\"marker\":{\"colorbar\":{\"outlinewidth\":0,\"ticks\":\"\"}},\"type\":\"scattercarpet\"}],\"scattergeo\":[{\"marker\":{\"colorbar\":{\"outlinewidth\":0,\"ticks\":\"\"}},\"type\":\"scattergeo\"}],\"scattergl\":[{\"marker\":{\"colorbar\":{\"outlinewidth\":0,\"ticks\":\"\"}},\"type\":\"scattergl\"}],\"scattermapbox\":[{\"marker\":{\"colorbar\":{\"outlinewidth\":0,\"ticks\":\"\"}},\"type\":\"scattermapbox\"}],\"scatterpolar\":[{\"marker\":{\"colorbar\":{\"outlinewidth\":0,\"ticks\":\"\"}},\"type\":\"scatterpolar\"}],\"scatterpolargl\":[{\"marker\":{\"colorbar\":{\"outlinewidth\":0,\"ticks\":\"\"}},\"type\":\"scatterpolargl\"}],\"scatterternary\":[{\"marker\":{\"colorbar\":{\"outlinewidth\":0,\"ticks\":\"\"}},\"type\":\"scatterternary\"}],\"surface\":[{\"colorbar\":{\"outlinewidth\":0,\"ticks\":\"\"},\"colorscale\":[[0.0,\"#0d0887\"],[0.1111111111111111,\"#46039f\"],[0.2222222222222222,\"#7201a8\"],[0.3333333333333333,\"#9c179e\"],[0.4444444444444444,\"#bd3786\"],[0.5555555555555556,\"#d8576b\"],[0.6666666666666666,\"#ed7953\"],[0.7777777777777778,\"#fb9f3a\"],[0.8888888888888888,\"#fdca26\"],[1.0,\"#f0f921\"]],\"type\":\"surface\"}],\"table\":[{\"cells\":{\"fill\":{\"color\":\"#EBF0F8\"},\"line\":{\"color\":\"white\"}},\"header\":{\"fill\":{\"color\":\"#C8D4E3\"},\"line\":{\"color\":\"white\"}},\"type\":\"table\"}]},\"layout\":{\"annotationdefaults\":{\"arrowcolor\":\"#2a3f5f\",\"arrowhead\":0,\"arrowwidth\":1},\"autotypenumbers\":\"strict\",\"coloraxis\":{\"colorbar\":{\"outlinewidth\":0,\"ticks\":\"\"}},\"colorscale\":{\"diverging\":[[0,\"#8e0152\"],[0.1,\"#c51b7d\"],[0.2,\"#de77ae\"],[0.3,\"#f1b6da\"],[0.4,\"#fde0ef\"],[0.5,\"#f7f7f7\"],[0.6,\"#e6f5d0\"],[0.7,\"#b8e186\"],[0.8,\"#7fbc41\"],[0.9,\"#4d9221\"],[1,\"#276419\"]],\"sequential\":[[0.0,\"#0d0887\"],[0.1111111111111111,\"#46039f\"],[0.2222222222222222,\"#7201a8\"],[0.3333333333333333,\"#9c179e\"],[0.4444444444444444,\"#bd3786\"],[0.5555555555555556,\"#d8576b\"],[0.6666666666666666,\"#ed7953\"],[0.7777777777777778,\"#fb9f3a\"],[0.8888888888888888,\"#fdca26\"],[1.0,\"#f0f921\"]],\"sequentialminus\":[[0.0,\"#0d0887\"],[0.1111111111111111,\"#46039f\"],[0.2222222222222222,\"#7201a8\"],[0.3333333333333333,\"#9c179e\"],[0.4444444444444444,\"#bd3786\"],[0.5555555555555556,\"#d8576b\"],[0.6666666666666666,\"#ed7953\"],[0.7777777777777778,\"#fb9f3a\"],[0.8888888888888888,\"#fdca26\"],[1.0,\"#f0f921\"]]},\"colorway\":[\"#636efa\",\"#EF553B\",\"#00cc96\",\"#ab63fa\",\"#FFA15A\",\"#19d3f3\",\"#FF6692\",\"#B6E880\",\"#FF97FF\",\"#FECB52\"],\"font\":{\"color\":\"#2a3f5f\"},\"geo\":{\"bgcolor\":\"white\",\"lakecolor\":\"white\",\"landcolor\":\"#E5ECF6\",\"showlakes\":true,\"showland\":true,\"subunitcolor\":\"white\"},\"hoverlabel\":{\"align\":\"left\"},\"hovermode\":\"closest\",\"mapbox\":{\"style\":\"light\"},\"paper_bgcolor\":\"white\",\"plot_bgcolor\":\"#E5ECF6\",\"polar\":{\"angularaxis\":{\"gridcolor\":\"white\",\"linecolor\":\"white\",\"ticks\":\"\"},\"bgcolor\":\"#E5ECF6\",\"radialaxis\":{\"gridcolor\":\"white\",\"linecolor\":\"white\",\"ticks\":\"\"}},\"scene\":{\"xaxis\":{\"backgroundcolor\":\"#E5ECF6\",\"gridcolor\":\"white\",\"gridwidth\":2,\"linecolor\":\"white\",\"showbackground\":true,\"ticks\":\"\",\"zerolinecolor\":\"white\"},\"yaxis\":{\"backgroundcolor\":\"#E5ECF6\",\"gridcolor\":\"white\",\"gridwidth\":2,\"linecolor\":\"white\",\"showbackground\":true,\"ticks\":\"\",\"zerolinecolor\":\"white\"},\"zaxis\":{\"backgroundcolor\":\"#E5ECF6\",\"gridcolor\":\"white\",\"gridwidth\":2,\"linecolor\":\"white\",\"showbackground\":true,\"ticks\":\"\",\"zerolinecolor\":\"white\"}},\"shapedefaults\":{\"line\":{\"color\":\"#2a3f5f\"}},\"ternary\":{\"aaxis\":{\"gridcolor\":\"white\",\"linecolor\":\"white\",\"ticks\":\"\"},\"baxis\":{\"gridcolor\":\"white\",\"linecolor\":\"white\",\"ticks\":\"\"},\"bgcolor\":\"#E5ECF6\",\"caxis\":{\"gridcolor\":\"white\",\"linecolor\":\"white\",\"ticks\":\"\"}},\"title\":{\"x\":0.05},\"xaxis\":{\"automargin\":true,\"gridcolor\":\"white\",\"linecolor\":\"white\",\"ticks\":\"\",\"title\":{\"standoff\":15},\"zerolinecolor\":\"white\",\"zerolinewidth\":2},\"yaxis\":{\"automargin\":true,\"gridcolor\":\"white\",\"linecolor\":\"white\",\"ticks\":\"\",\"title\":{\"standoff\":15},\"zerolinecolor\":\"white\",\"zerolinewidth\":2}}},\"xaxis\":{\"anchor\":\"y\",\"domain\":[0.0,1.0],\"title\":{\"text\":\"index\"}},\"yaxis\":{\"anchor\":\"x\",\"domain\":[0.0,1.0],\"title\":{\"text\":\"value\"}},\"legend\":{\"title\":{\"text\":\"variable\"},\"tracegroupgap\":0},\"margin\":{\"t\":60}},                        {\"responsive\": true}                    ).then(function(){\n",
              "                            \n",
              "var gd = document.getElementById('c7d3c85b-2f96-4c57-b1b2-ec8935da0fdd');\n",
              "var x = new MutationObserver(function (mutations, observer) {{\n",
              "        var display = window.getComputedStyle(gd).display;\n",
              "        if (!display || display === 'none') {{\n",
              "            console.log([gd, 'removed!']);\n",
              "            Plotly.purge(gd);\n",
              "            observer.disconnect();\n",
              "        }}\n",
              "}});\n",
              "\n",
              "// Listen for the removal of the full notebook cells\n",
              "var notebookContainer = gd.closest('#notebook-container');\n",
              "if (notebookContainer) {{\n",
              "    x.observe(notebookContainer, {childList: true});\n",
              "}}\n",
              "\n",
              "// Listen for the clearing of the current output cell\n",
              "var outputEl = gd.closest('.output');\n",
              "if (outputEl) {{\n",
              "    x.observe(outputEl, {childList: true});\n",
              "}}\n",
              "\n",
              "                        })                };                            </script>        </div>\n",
              "</body>\n",
              "</html>"
            ]
          },
          "metadata": {}
        }
      ]
    }
  ]
}