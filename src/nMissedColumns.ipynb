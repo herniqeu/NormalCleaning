{
  "nbformat": 4,
  "nbformat_minor": 0,
  "metadata": {
    "colab": {
      "provenance": []
    },
    "kernelspec": {
      "name": "python3",
      "display_name": "Python 3"
    },
    "language_info": {
      "name": "python"
    }
  },
  "cells": [
    {
      "cell_type": "code",
      "source": [
        "from google.colab import drive\n",
        "import pandas as pd \n",
        "from sklearn.tree import DecisionTreeRegressor\n",
        "from sklearn.ensemble import RandomForestRegressor\n",
        "from sklearn.datasets import make_classification\n",
        "import numpy as np \n",
        "import plotly.express as px\n",
        "from sklearn.metrics import precision_score\n",
        "\n",
        "drive.mount('/content/drive')\n",
        "\n",
        "df_train = pd.read_csv('/content/drive/MyDrive/house-prices-advanced-regression-techniques/train.csv')\n",
        "df_test = pd.read_csv('/content/drive/MyDrive/house-prices-advanced-regression-techniques/test.csv')\n",
        "\n",
        "df_train = df_train.drop('Id', axis=1)\n",
        "\n",
        "np.random.seed(73)"
      ],
      "metadata": {
        "colab": {
          "base_uri": "https://localhost:8080/"
        },
        "id": "6DMqyHNpRmW7",
        "outputId": "af8d998e-6e34-4a29-d00f-dc8226ac4478"
      },
      "execution_count": 180,
      "outputs": [
        {
          "output_type": "stream",
          "name": "stdout",
          "text": [
            "Drive already mounted at /content/drive; to attempt to forcibly remount, call drive.mount(\"/content/drive\", force_remount=True).\n"
          ]
        }
      ]
    },
    {
      "cell_type": "markdown",
      "source": [
        "## Mean"
      ],
      "metadata": {
        "id": "q1M__eLhd1Q5"
      }
    },
    {
      "cell_type": "code",
      "source": [
        "def Mean(numberOfNanX, numberOfNaNColumns): \n",
        "\n",
        "  columns = list(df_train.select_dtypes(include='number').columns)[:numberOfNaNColumns-1]\n",
        "\n",
        "  if 'SalePrice' not in columns:\n",
        "    columns.append('SalePrice')\n",
        "\n",
        "  df_train_mean = df_train[columns].copy()\n",
        "\n",
        "  if numberOfNanX >= len(df_train_mean):\n",
        "    numberOfNanX = len(df_train_mean) - 1\n",
        "\n",
        "  for i in columns:  \n",
        "    df_train_mean[i] = df_train_mean[i].astype('float32')\n",
        "    df_train_mean.loc[:numberOfNanX, i] = np.nan\n",
        "    ColumnMean = df_train_mean[i].mean(skipna=True)\n",
        "    df_train_mean[i] = df_train_mean[i].fillna(ColumnMean)\n",
        "\n",
        "  X_train = df_train_mean.drop(columns=['SalePrice'])\n",
        "  y_train = df_train_mean['SalePrice']\n",
        "\n",
        "  rfMean = RandomForestRegressor(max_depth=9)\n",
        "  rfMean.fit(X_train,y_train)\n",
        "\n",
        "  return rfMean.score(X_train,y_train)"
      ],
      "metadata": {
        "id": "ph0yJShAhhXJ"
      },
      "execution_count": 181,
      "outputs": []
    },
    {
      "cell_type": "markdown",
      "source": [
        "# Mode\n"
      ],
      "metadata": {
        "id": "I872BfyCdsbK"
      }
    },
    {
      "cell_type": "code",
      "source": [
        "def Mode(numberOfNanX, numberOfNaNColumns): \n",
        "\n",
        "  columns = list(df_train.select_dtypes(include='number').columns)[:numberOfNaNColumns-1]\n",
        "\n",
        "  if 'SalePrice' not in columns:\n",
        "    columns.append('SalePrice')\n",
        "\n",
        "  df_train_mode = df_train[columns].copy()\n",
        "\n",
        "  if numberOfNanX >= len(df_train_mode):\n",
        "    numberOfNanX = len(df_train_mode) - 1\n",
        "\n",
        "  for i in columns:  \n",
        "    df_train_mode[i] = df_train_mode[i].astype('float32')\n",
        "    df_train_mode.loc[:numberOfNanX, i] = np.nan\n",
        "    ColumnMode = df_train_mode[i].mode()[0]\n",
        "    df_train_mode[i] = df_train_mode[i].fillna(ColumnMode)\n",
        "\n",
        "  X_train = df_train_mode.drop(columns=['SalePrice'])\n",
        "  y_train = df_train_mode['SalePrice']\n",
        "\n",
        "  rfmode = RandomForestRegressor(max_depth=9)\n",
        "  rfmode.fit(X_train,y_train)\n",
        "\n",
        "  return rfmode.score(X_train,y_train)"
      ],
      "metadata": {
        "id": "YBf4ijouGxLG"
      },
      "execution_count": 182,
      "outputs": []
    },
    {
      "cell_type": "markdown",
      "source": [
        "# Median"
      ],
      "metadata": {
        "id": "TJW1CeBydypA"
      }
    },
    {
      "cell_type": "code",
      "source": [
        "def Median(numberOfNanX, numberOfNaNColumns): \n",
        "\n",
        "  columns = list(df_train.select_dtypes(include='number').columns)[:numberOfNaNColumns-1]\n",
        "\n",
        "  if 'SalePrice' not in columns:\n",
        "    columns.append('SalePrice')\n",
        "\n",
        "  df_train_median = df_train[columns].copy()\n",
        "\n",
        "  if numberOfNanX >= len(df_train_median):\n",
        "    numberOfNanX = len(df_train_median) - 1\n",
        "\n",
        "  for i in columns:  \n",
        "    df_train_median[i] = df_train_median[i].astype('float32')\n",
        "    df_train_median.loc[:numberOfNanX, i] = np.nan\n",
        "    Columnmedian = df_train_median[i].median(skipna=True)\n",
        "    df_train_median[i] = df_train_median[i].fillna(Columnmedian)\n",
        "\n",
        "  X_train = df_train_median.drop(columns=['SalePrice'])\n",
        "  y_train = df_train_median['SalePrice']\n",
        "\n",
        "  rfmedian = RandomForestRegressor(max_depth=9)\n",
        "  rfmedian.fit(X_train,y_train)\n",
        "\n",
        "  return rfmedian.score(X_train,y_train)"
      ],
      "metadata": {
        "id": "xjCR8hCng76U"
      },
      "execution_count": 183,
      "outputs": []
    },
    {
      "cell_type": "markdown",
      "source": [
        "# Normal Distribution"
      ],
      "metadata": {
        "id": "jA5jAIUddn-F"
      }
    },
    {
      "cell_type": "code",
      "source": [
        "def NormalDistribuition(numberOfNanX, numberOfNaNColumns): \n",
        "\n",
        "  columns = list(df_train.select_dtypes(include='number').columns)[:numberOfNaNColumns-1]\n",
        "\n",
        "  if 'SalePrice' not in columns:\n",
        "    columns.append('SalePrice')\n",
        "\n",
        "  df_train_normal = df_train[columns].copy()\n",
        "\n",
        "  if numberOfNanX >= len(df_train_normal):\n",
        "    numberOfNanX = len(df_train_normal) - 1\n",
        "\n",
        "  for i in columns:  \n",
        "    df_train_normal[i] = df_train_normal[i].astype('float32')\n",
        "    df_train_normal.loc[:numberOfNanX, i] = np.nan\n",
        "    ColumnMean = df_train_normal[i].mean(skipna=True)\n",
        "    ColumnStd = df_train_normal[i].std(skipna=True)\n",
        "    NullLength = df_train_normal[i].isnull().sum()\n",
        "    NormalDistributionList = np.random.normal(ColumnMean, ColumnStd, NullLength)\n",
        "    df_train_normal[i].fillna(pd.Series(NormalDistributionList, index=df_train_normal.index[df_train_normal[i].isnull()]), inplace=True)\n",
        "\n",
        "  X_train = df_train_normal.drop(columns=['SalePrice'])\n",
        "  y_train = df_train_normal['SalePrice']\n",
        "\n",
        "  rfNormalDistribuition = RandomForestRegressor(max_depth=9)\n",
        "  rfNormalDistribuition.fit(X_train,y_train)\n",
        "\n",
        "  return rfNormalDistribuition.score(X_train,y_train)"
      ],
      "metadata": {
        "id": "41IcZ6jDgWz1"
      },
      "execution_count": 184,
      "outputs": []
    },
    {
      "cell_type": "code",
      "source": [
        "TestList = []\n",
        "for i in range(0, 1201, 50):\n",
        "  TestList.append(i) "
      ],
      "metadata": {
        "id": "3w8QcCzJh0jb"
      },
      "execution_count": 186,
      "outputs": []
    },
    {
      "cell_type": "code",
      "source": [
        "def GenerateInfo(numberOfNaNColumns):\n",
        "  TestList = []\n",
        "  for i in range(0, 201, 10):\n",
        "    TestList.append(i) \n",
        "\n",
        "  ResultsList = [[],[],[],[]]\n",
        "  for i in TestList:\n",
        "    ResultsList[0].append(Mean(i,numberOfNaNColumns))\n",
        "    ResultsList[1].append(Mode(i,numberOfNaNColumns))\n",
        "    ResultsList[2].append(Mode(i,numberOfNaNColumns))\n",
        "    ResultsList[3].append(NormalDistribuition(i,numberOfNaNColumns))\n",
        "\n",
        "  data = {'Mean': ResultsList[0],\n",
        "        'mode': ResultsList[1],\n",
        "        'Mode': ResultsList[2],\n",
        "        'Normal Distribution': ResultsList[3]\n",
        "        }\n",
        "        \n",
        "  df_Results = pd.DataFrame(data)\n",
        "  df_Results.index = TestList\n",
        "\n",
        "  fig = px.line(df_Results.reset_index(), x='index', y=df_Results.columns)\n",
        "  fig.show()"
      ],
      "metadata": {
        "id": "MG7NXvfu1ndX"
      },
      "execution_count": 190,
      "outputs": []
    },
    {
      "cell_type": "code",
      "source": [
        "GenerateInfo(30)"
      ],
      "metadata": {
        "id": "Fg4TlU3f2Hzp"
      },
      "execution_count": null,
      "outputs": []
    }
  ]
}