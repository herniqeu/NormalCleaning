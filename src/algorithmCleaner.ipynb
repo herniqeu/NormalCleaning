{
  "cells": [
    {
      "cell_type": "code",
      "execution_count": 39,
      "metadata": {
        "colab": {
          "base_uri": "https://localhost:8080/"
        },
        "id": "6DMqyHNpRmW7",
        "outputId": "0f10a258-c12b-475a-f2b2-82c2feabc86c"
      },
      "outputs": [
        {
          "output_type": "stream",
          "name": "stdout",
          "text": [
            "Drive already mounted at /content/drive; to attempt to forcibly remount, call drive.mount(\"/content/drive\", force_remount=True).\n"
          ]
        }
      ],
      "source": [
        "from google.colab import drive\n",
        "import pandas as pd \n",
        "from sklearn.tree import DecisionTreeRegressor\n",
        "from sklearn.ensemble import RandomForestRegressor\n",
        "from sklearn.datasets import make_classification\n",
        "import plotly.express as px\n",
        "from sklearn.metrics import precision_score\n",
        "import numpy as np \n",
        "from sklearn import tree\n",
        "from sklearn.ensemble import RandomForestClassifier\n",
        "\n",
        "drive.mount('/content/drive')\n",
        "\n",
        "df_train = pd.read_csv('/content/drive/MyDrive/house-prices-advanced-regression-techniques/train.csv')\n",
        "df_test = pd.read_csv('/content/drive/MyDrive/house-prices-advanced-regression-techniques/test.csv')\n",
        "\n",
        "df_train = df_train.drop('Id', axis=1)\n",
        "\n",
        "np.random.seed(73)"
      ]
    },
    {
      "cell_type": "code",
      "source": [
        "def CleaningAlgorithm(numberOfNanX, numberOfColumns):\n",
        "\n",
        "  AllColumns = list(df_train.select_dtypes(include='number').columns)\n",
        "\n",
        "  columns = list(df_train.select_dtypes(include='number').columns)[:numberOfColumns-1]\n",
        "\n",
        "  if 'SalePrice' not in columns:\n",
        "    columns.append('SalePrice')\n",
        "\n",
        "  df_train_algorithm = df_train[columns].copy()\n",
        "\n",
        "  for i in columns:\n",
        "    df_train_algorithm.loc[:numberOfNanX, i] = np.nan \n",
        "    todas = list(df_train_algorithm.columns)\n",
        "    \n",
        "    df_treino = df_train_algorithm.copy()\n",
        "    df_treino.dropna(subset=todas, inplace=True)\n",
        "\n",
        "    X = df_treino.drop(i, axis=1)\n",
        "    y = df_treino[i]\n",
        "\n",
        "    clf = RandomForestClassifier()\n",
        "    clf = clf.fit(X, y)\n",
        "\n",
        "    linhas_com_nan = df_train_algorithm[df_train_algorithm[i].isna()]\n",
        "    linhas_com_nan = linhas_com_nan.drop(i, axis=1)\n",
        "\n",
        "    numero_nan = df_train_algorithm.isna().sum()[i]\n",
        "\n",
        "    linhas_com_nan = linhas_com_nan.fillna(linhas_com_nan.mean())\n",
        "\n",
        "    clfLista = clf.predict(linhas_com_nan)\n",
        "\n",
        "    for j in range(0, numero_nan): \n",
        "        df_train_algorithm.loc[df_train_algorithm[i].isna(), i] = clfLista[j] \n",
        "  \n",
        "  X_train = df_train_algorithm.drop(columns=['SalePrice'])\n",
        "  y_train = df_train_algorithm['SalePrice']\n",
        "  \n",
        "  rfCleaningAlgorithm = RandomForestClassifier()\n",
        "  rfCleaningAlgorithm.fit(X_train,y_train)\n",
        "\n",
        "  return rfCleaningAlgorithm.score(X_train,y_train)"
      ],
      "metadata": {
        "id": "XocRhz5vm8BM"
      },
      "execution_count": 40,
      "outputs": []
    }
  ],
  "metadata": {
    "colab": {
      "provenance": []
    },
    "kernelspec": {
      "display_name": "Python 3",
      "name": "python3"
    },
    "language_info": {
      "name": "python"
    }
  },
  "nbformat": 4,
  "nbformat_minor": 0
}